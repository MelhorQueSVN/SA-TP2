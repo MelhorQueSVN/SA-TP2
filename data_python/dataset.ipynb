{
 "cells": [
  {
   "cell_type": "markdown",
   "metadata": {},
   "source": [
    "# Transformação csv dos dados da API histórico OW "
   ]
  },
  {
   "cell_type": "code",
   "execution_count": 169,
   "metadata": {},
   "outputs": [],
   "source": [
    "import pandas as pd  \n",
    "import numpy as np\n",
    "data = pd.read_csv(\"bragaUV.csv\")"
   ]
  },
  {
   "cell_type": "code",
   "execution_count": 170,
   "metadata": {},
   "outputs": [
    {
     "data": {
      "text/html": [
       "<div>\n",
       "<style scoped>\n",
       "    .dataframe tbody tr th:only-of-type {\n",
       "        vertical-align: middle;\n",
       "    }\n",
       "\n",
       "    .dataframe tbody tr th {\n",
       "        vertical-align: top;\n",
       "    }\n",
       "\n",
       "    .dataframe thead th {\n",
       "        text-align: right;\n",
       "    }\n",
       "</style>\n",
       "<table border=\"1\" class=\"dataframe\">\n",
       "  <thead>\n",
       "    <tr style=\"text-align: right;\">\n",
       "      <th></th>\n",
       "      <th>lat</th>\n",
       "      <th>lon</th>\n",
       "      <th>date_iso</th>\n",
       "      <th>date</th>\n",
       "      <th>value</th>\n",
       "    </tr>\n",
       "  </thead>\n",
       "  <tbody>\n",
       "    <tr>\n",
       "      <th>0</th>\n",
       "      <td>41.54</td>\n",
       "      <td>-8.43</td>\n",
       "      <td>2017-06-22T12:00:00Z</td>\n",
       "      <td>1498132800</td>\n",
       "      <td>9.89</td>\n",
       "    </tr>\n",
       "    <tr>\n",
       "      <th>1</th>\n",
       "      <td>41.54</td>\n",
       "      <td>-8.43</td>\n",
       "      <td>2017-06-23T12:00:00Z</td>\n",
       "      <td>1498219200</td>\n",
       "      <td>8.95</td>\n",
       "    </tr>\n",
       "    <tr>\n",
       "      <th>2</th>\n",
       "      <td>41.54</td>\n",
       "      <td>-8.43</td>\n",
       "      <td>2017-06-24T12:00:00Z</td>\n",
       "      <td>1498305600</td>\n",
       "      <td>8.88</td>\n",
       "    </tr>\n",
       "    <tr>\n",
       "      <th>3</th>\n",
       "      <td>41.54</td>\n",
       "      <td>-8.43</td>\n",
       "      <td>2017-06-25T12:00:00Z</td>\n",
       "      <td>1498392000</td>\n",
       "      <td>8.70</td>\n",
       "    </tr>\n",
       "    <tr>\n",
       "      <th>4</th>\n",
       "      <td>41.54</td>\n",
       "      <td>-8.43</td>\n",
       "      <td>2017-06-26T12:00:00Z</td>\n",
       "      <td>1498478400</td>\n",
       "      <td>8.65</td>\n",
       "    </tr>\n",
       "  </tbody>\n",
       "</table>\n",
       "</div>"
      ],
      "text/plain": [
       "     lat   lon              date_iso        date  value\n",
       "0  41.54 -8.43  2017-06-22T12:00:00Z  1498132800   9.89\n",
       "1  41.54 -8.43  2017-06-23T12:00:00Z  1498219200   8.95\n",
       "2  41.54 -8.43  2017-06-24T12:00:00Z  1498305600   8.88\n",
       "3  41.54 -8.43  2017-06-25T12:00:00Z  1498392000   8.70\n",
       "4  41.54 -8.43  2017-06-26T12:00:00Z  1498478400   8.65"
      ]
     },
     "execution_count": 170,
     "metadata": {},
     "output_type": "execute_result"
    }
   ],
   "source": [
    "data.head()"
   ]
  },
  {
   "cell_type": "code",
   "execution_count": 171,
   "metadata": {},
   "outputs": [
    {
     "name": "stdout",
     "output_type": "stream",
     "text": [
      "<class 'pandas.core.frame.DataFrame'>\n",
      "RangeIndex: 990 entries, 0 to 989\n",
      "Data columns (total 5 columns):\n",
      "lat         990 non-null float64\n",
      "lon         990 non-null float64\n",
      "date_iso    990 non-null object\n",
      "date        990 non-null int64\n",
      "value       990 non-null float64\n",
      "dtypes: float64(3), int64(1), object(1)\n",
      "memory usage: 38.8+ KB\n"
     ]
    }
   ],
   "source": [
    "data.info()"
   ]
  },
  {
   "cell_type": "code",
   "execution_count": 172,
   "metadata": {},
   "outputs": [],
   "source": [
    "data = data.drop(['lat','lon'],axis=1)"
   ]
  },
  {
   "cell_type": "code",
   "execution_count": 173,
   "metadata": {},
   "outputs": [
    {
     "name": "stdout",
     "output_type": "stream",
     "text": [
      "<class 'pandas.core.frame.DataFrame'>\n",
      "RangeIndex: 990 entries, 0 to 989\n",
      "Data columns (total 3 columns):\n",
      "date_iso    990 non-null object\n",
      "date        990 non-null int64\n",
      "value       990 non-null float64\n",
      "dtypes: float64(1), int64(1), object(1)\n",
      "memory usage: 23.3+ KB\n"
     ]
    }
   ],
   "source": [
    "data.info()"
   ]
  },
  {
   "cell_type": "code",
   "execution_count": 174,
   "metadata": {},
   "outputs": [],
   "source": [
    "data['cidade'] = \"Braga\" "
   ]
  },
  {
   "cell_type": "code",
   "execution_count": 175,
   "metadata": {},
   "outputs": [
    {
     "data": {
      "text/html": [
       "<div>\n",
       "<style scoped>\n",
       "    .dataframe tbody tr th:only-of-type {\n",
       "        vertical-align: middle;\n",
       "    }\n",
       "\n",
       "    .dataframe tbody tr th {\n",
       "        vertical-align: top;\n",
       "    }\n",
       "\n",
       "    .dataframe thead th {\n",
       "        text-align: right;\n",
       "    }\n",
       "</style>\n",
       "<table border=\"1\" class=\"dataframe\">\n",
       "  <thead>\n",
       "    <tr style=\"text-align: right;\">\n",
       "      <th></th>\n",
       "      <th>date_iso</th>\n",
       "      <th>date</th>\n",
       "      <th>value</th>\n",
       "      <th>cidade</th>\n",
       "    </tr>\n",
       "  </thead>\n",
       "  <tbody>\n",
       "    <tr>\n",
       "      <th>0</th>\n",
       "      <td>2017-06-22T12:00:00Z</td>\n",
       "      <td>1498132800</td>\n",
       "      <td>9.89</td>\n",
       "      <td>Braga</td>\n",
       "    </tr>\n",
       "    <tr>\n",
       "      <th>1</th>\n",
       "      <td>2017-06-23T12:00:00Z</td>\n",
       "      <td>1498219200</td>\n",
       "      <td>8.95</td>\n",
       "      <td>Braga</td>\n",
       "    </tr>\n",
       "    <tr>\n",
       "      <th>2</th>\n",
       "      <td>2017-06-24T12:00:00Z</td>\n",
       "      <td>1498305600</td>\n",
       "      <td>8.88</td>\n",
       "      <td>Braga</td>\n",
       "    </tr>\n",
       "    <tr>\n",
       "      <th>3</th>\n",
       "      <td>2017-06-25T12:00:00Z</td>\n",
       "      <td>1498392000</td>\n",
       "      <td>8.70</td>\n",
       "      <td>Braga</td>\n",
       "    </tr>\n",
       "    <tr>\n",
       "      <th>4</th>\n",
       "      <td>2017-06-26T12:00:00Z</td>\n",
       "      <td>1498478400</td>\n",
       "      <td>8.65</td>\n",
       "      <td>Braga</td>\n",
       "    </tr>\n",
       "  </tbody>\n",
       "</table>\n",
       "</div>"
      ],
      "text/plain": [
       "               date_iso        date  value cidade\n",
       "0  2017-06-22T12:00:00Z  1498132800   9.89  Braga\n",
       "1  2017-06-23T12:00:00Z  1498219200   8.95  Braga\n",
       "2  2017-06-24T12:00:00Z  1498305600   8.88  Braga\n",
       "3  2017-06-25T12:00:00Z  1498392000   8.70  Braga\n",
       "4  2017-06-26T12:00:00Z  1498478400   8.65  Braga"
      ]
     },
     "execution_count": 175,
     "metadata": {},
     "output_type": "execute_result"
    }
   ],
   "source": [
    "data.head()"
   ]
  },
  {
   "cell_type": "code",
   "execution_count": 176,
   "metadata": {},
   "outputs": [],
   "source": [
    "data['mes'] = 0 \n",
    "for i in range(len(data)): \n",
    "    data[\"date\"].iloc[i] = datetime.datetime.fromtimestamp(data[\"date\"].iloc[i]).strftime('%Y-%m-%d') \n",
    "    data[\"mes\"].iloc[i] = datetime.datetime.strptime(data[\"date\"].iloc[i], \"%Y-%m-%d\") \n",
    "    data[\"mes\"].iloc[i] = data[\"mes\"].iloc[i].month\n",
    "    "
   ]
  },
  {
   "cell_type": "code",
   "execution_count": 177,
   "metadata": {},
   "outputs": [
    {
     "data": {
      "text/html": [
       "<div>\n",
       "<style scoped>\n",
       "    .dataframe tbody tr th:only-of-type {\n",
       "        vertical-align: middle;\n",
       "    }\n",
       "\n",
       "    .dataframe tbody tr th {\n",
       "        vertical-align: top;\n",
       "    }\n",
       "\n",
       "    .dataframe thead th {\n",
       "        text-align: right;\n",
       "    }\n",
       "</style>\n",
       "<table border=\"1\" class=\"dataframe\">\n",
       "  <thead>\n",
       "    <tr style=\"text-align: right;\">\n",
       "      <th></th>\n",
       "      <th>date_iso</th>\n",
       "      <th>date</th>\n",
       "      <th>value</th>\n",
       "      <th>cidade</th>\n",
       "      <th>mes</th>\n",
       "    </tr>\n",
       "  </thead>\n",
       "  <tbody>\n",
       "    <tr>\n",
       "      <th>0</th>\n",
       "      <td>2017-06-22T12:00:00Z</td>\n",
       "      <td>2017-06-22</td>\n",
       "      <td>9.89</td>\n",
       "      <td>Braga</td>\n",
       "      <td>6</td>\n",
       "    </tr>\n",
       "    <tr>\n",
       "      <th>1</th>\n",
       "      <td>2017-06-23T12:00:00Z</td>\n",
       "      <td>2017-06-23</td>\n",
       "      <td>8.95</td>\n",
       "      <td>Braga</td>\n",
       "      <td>6</td>\n",
       "    </tr>\n",
       "    <tr>\n",
       "      <th>2</th>\n",
       "      <td>2017-06-24T12:00:00Z</td>\n",
       "      <td>2017-06-24</td>\n",
       "      <td>8.88</td>\n",
       "      <td>Braga</td>\n",
       "      <td>6</td>\n",
       "    </tr>\n",
       "    <tr>\n",
       "      <th>3</th>\n",
       "      <td>2017-06-25T12:00:00Z</td>\n",
       "      <td>2017-06-25</td>\n",
       "      <td>8.70</td>\n",
       "      <td>Braga</td>\n",
       "      <td>6</td>\n",
       "    </tr>\n",
       "    <tr>\n",
       "      <th>4</th>\n",
       "      <td>2017-06-26T12:00:00Z</td>\n",
       "      <td>2017-06-26</td>\n",
       "      <td>8.65</td>\n",
       "      <td>Braga</td>\n",
       "      <td>6</td>\n",
       "    </tr>\n",
       "  </tbody>\n",
       "</table>\n",
       "</div>"
      ],
      "text/plain": [
       "               date_iso        date  value cidade  mes\n",
       "0  2017-06-22T12:00:00Z  2017-06-22   9.89  Braga    6\n",
       "1  2017-06-23T12:00:00Z  2017-06-23   8.95  Braga    6\n",
       "2  2017-06-24T12:00:00Z  2017-06-24   8.88  Braga    6\n",
       "3  2017-06-25T12:00:00Z  2017-06-25   8.70  Braga    6\n",
       "4  2017-06-26T12:00:00Z  2017-06-26   8.65  Braga    6"
      ]
     },
     "execution_count": 177,
     "metadata": {},
     "output_type": "execute_result"
    }
   ],
   "source": [
    "data.head()"
   ]
  },
  {
   "cell_type": "code",
   "execution_count": 178,
   "metadata": {},
   "outputs": [],
   "source": [
    "data = data.drop(['date_iso'],axis=1)"
   ]
  },
  {
   "cell_type": "code",
   "execution_count": 179,
   "metadata": {},
   "outputs": [
    {
     "data": {
      "text/html": [
       "<div>\n",
       "<style scoped>\n",
       "    .dataframe tbody tr th:only-of-type {\n",
       "        vertical-align: middle;\n",
       "    }\n",
       "\n",
       "    .dataframe tbody tr th {\n",
       "        vertical-align: top;\n",
       "    }\n",
       "\n",
       "    .dataframe thead th {\n",
       "        text-align: right;\n",
       "    }\n",
       "</style>\n",
       "<table border=\"1\" class=\"dataframe\">\n",
       "  <thead>\n",
       "    <tr style=\"text-align: right;\">\n",
       "      <th></th>\n",
       "      <th>date</th>\n",
       "      <th>value</th>\n",
       "      <th>cidade</th>\n",
       "      <th>mes</th>\n",
       "    </tr>\n",
       "  </thead>\n",
       "  <tbody>\n",
       "    <tr>\n",
       "      <th>0</th>\n",
       "      <td>2017-06-22</td>\n",
       "      <td>9.89</td>\n",
       "      <td>Braga</td>\n",
       "      <td>6</td>\n",
       "    </tr>\n",
       "    <tr>\n",
       "      <th>1</th>\n",
       "      <td>2017-06-23</td>\n",
       "      <td>8.95</td>\n",
       "      <td>Braga</td>\n",
       "      <td>6</td>\n",
       "    </tr>\n",
       "    <tr>\n",
       "      <th>2</th>\n",
       "      <td>2017-06-24</td>\n",
       "      <td>8.88</td>\n",
       "      <td>Braga</td>\n",
       "      <td>6</td>\n",
       "    </tr>\n",
       "    <tr>\n",
       "      <th>3</th>\n",
       "      <td>2017-06-25</td>\n",
       "      <td>8.70</td>\n",
       "      <td>Braga</td>\n",
       "      <td>6</td>\n",
       "    </tr>\n",
       "    <tr>\n",
       "      <th>4</th>\n",
       "      <td>2017-06-26</td>\n",
       "      <td>8.65</td>\n",
       "      <td>Braga</td>\n",
       "      <td>6</td>\n",
       "    </tr>\n",
       "  </tbody>\n",
       "</table>\n",
       "</div>"
      ],
      "text/plain": [
       "         date  value cidade  mes\n",
       "0  2017-06-22   9.89  Braga    6\n",
       "1  2017-06-23   8.95  Braga    6\n",
       "2  2017-06-24   8.88  Braga    6\n",
       "3  2017-06-25   8.70  Braga    6\n",
       "4  2017-06-26   8.65  Braga    6"
      ]
     },
     "execution_count": 179,
     "metadata": {},
     "output_type": "execute_result"
    }
   ],
   "source": [
    "data.head()"
   ]
  },
  {
   "cell_type": "code",
   "execution_count": 181,
   "metadata": {},
   "outputs": [],
   "source": [
    "data.to_csv(\"dataset_limpo.csv\",index=False)"
   ]
  }
 ],
 "metadata": {
  "kernelspec": {
   "display_name": "Python 3",
   "language": "python",
   "name": "python3"
  },
  "language_info": {
   "codemirror_mode": {
    "name": "ipython",
    "version": 3
   },
   "file_extension": ".py",
   "mimetype": "text/x-python",
   "name": "python",
   "nbconvert_exporter": "python",
   "pygments_lexer": "ipython3",
   "version": "3.6.9"
  }
 },
 "nbformat": 4,
 "nbformat_minor": 2
}
